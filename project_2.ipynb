{
 "cells": [
  {
   "cell_type": "markdown",
   "metadata": {},
   "source": [
    "# Project 2: Neural Style Transfer\n",
    "##### \n",
    "##### Submission due on December 11th \n",
    "##### \n",
    "\n",
    "<table style=\"width:100%\">\n",
    "    <tr>\n",
    "        <th><img src=\"altgebaeude.jpg?666\" alt=\"\" style=\"width: 333px;\"></th>\n",
    "        <th><img src=\"vangogh.jpg?999\" alt=\"\" style=\"width: 333px;\"></th>\n",
    "        <th><img src=\"altgebaeude_stilisiert.png?555\" alt=\"\" style=\"width: 333px;\"></th>\n",
    "    </tr>\n",
    "    <tr>\n",
    "        <th>Content Image $\\mathbf{c}$</th>\n",
    "        <th>Style Image $\\mathbf{s}$</th>\n",
    "        <th>Generated Image $\\mathbf{x}$</th>\n",
    "    </tr>\n",
    "</table> \n",
    "\n",
    "#### \n",
    "\n",
    "Welcome to *Project 2: Neural Style Transfer*! Neural style transfer is an approach to modify a given image (the *Content Image*, usually a photo) such that it assimilates another given image (the *Style Image*, usually a painting) in terms of style. In doing that, of course we need an explicit definition of what we mean by *style*: A specific loss function is minimized which incorporates a pretrained convolutional neural network (CNN). A subset of layers of the CNN are used to compute a distance between the sought image (the *Generated Image*) and the *Content Image*, and between the *Generated Image* and the *Style Imgage*, respectively.\n",
    "\n",
    "The underlying idea originates in the paper <a href=\"https://arxiv.org/pdf/1508.06576.pdf\">A Neural Algorithm of Artistic Style</a> by Leon Gatys, Alexander Ecker and Matthias Bethge. It is assumed that outputs of CNN layers indicate whether or not areas of an input image contain certain learned patterns. Each filter in a CNN layer represents one pattern, and the deeper a filter is located in the network, the more complex and abstract can be the extracted information. While layer outputs (activations) can be used directly to derive a distance between content image and generated image, something more sophisticated is needed to measure similarity in style. To establish a style based distance, correlations (inner products) between all output channels of a CNN layer are computed and stored in a *Gram Matrix*. A comparison between *Style Image* and *Generated Image* is then accomplished in terms of several Gram matrices relating to different layers. More details can be found below, in the above-mentioned paper, and in the Stud.IP Courseware.\n",
    "\n",
    "In this project, you will use the readily trained and available CNN <a href=\"https://www.tensorflow.org/api_docs/python/tf/keras/applications/vgg19\">VGG19</a> (see also <a href=\"https://arxiv.org/pdf/1409.1556.pdf\">Very Deep Convolutional Networks for Large-Scale Image Recognition</a> by Karen Simonyan Andrew Zisserman). In other words, our goal here is **not** to learn parameters of a neural network. We solely seek the *Generated Image*. However, you will learn fundamentals for an advanced usage of Keras and TensorFlow. To compute CNN activations and Gram matrices from inputs, you will need the <a href=\"https://studip.tu-braunschweig.de/plugins.php/courseware/courseware?cid=20c4897dea349b14eca5d904fda9504d&selected=1400901\">Keras Functional API</a> as well as the <a href=\"https://studip.tu-braunschweig.de/plugins.php/courseware/courseware?cid=20c4897dea349b14eca5d904fda9504d&selected=1400902\">Keras Subclassing API</a>. These two enable you to create custom models in Keras and surpass the possibilities of the <a href=\"https://studip.tu-braunschweig.de/plugins.php/courseware/courseware?cid=20c4897dea349b14eca5d904fda9504d&selected=1400900\">Keras Sequential API</a> by far. Moreover, you will use <a href=\"https://studip.tu-braunschweig.de/plugins.php/courseware/courseware?cid=20c4897dea349b14eca5d904fda9504d&selected=1400905\">TensorFlow functions</a> and <a href=\"https://studip.tu-braunschweig.de/plugins.php/courseware/courseware?cid=20c4897dea349b14eca5d904fda9504d&selected=1400896\">automatic differentiation</a> in order to implement <a href=\"https://studip.tu-braunschweig.de/plugins.php/courseware/courseware?cid=20c4897dea349b14eca5d904fda9504d&selected=1400904\">custom training loops</a> in TensorFlow."
   ]
  },
  {
   "cell_type": "code",
   "execution_count": 1,
   "metadata": {},
   "outputs": [
    {
     "data": {
      "application/javascript": [
       "\n",
       "            setTimeout(function() {\n",
       "                var nbb_cell_id = 1;\n",
       "                var nbb_unformatted_code = \"%load_ext nb_black\";\n",
       "                var nbb_formatted_code = \"%load_ext nb_black\";\n",
       "                var nbb_cells = Jupyter.notebook.get_cells();\n",
       "                for (var i = 0; i < nbb_cells.length; ++i) {\n",
       "                    if (nbb_cells[i].input_prompt_number == nbb_cell_id) {\n",
       "                        if (nbb_cells[i].get_text() == nbb_unformatted_code) {\n",
       "                             nbb_cells[i].set_text(nbb_formatted_code);\n",
       "                        }\n",
       "                        break;\n",
       "                    }\n",
       "                }\n",
       "            }, 500);\n",
       "            "
      ],
      "text/plain": [
       "<IPython.core.display.Javascript object>"
      ]
     },
     "metadata": {},
     "output_type": "display_data"
    }
   ],
   "source": [
    "%load_ext nb_black\n"
   ]
  },
  {
   "cell_type": "code",
   "execution_count": 2,
   "metadata": {},
   "outputs": [
    {
     "data": {
      "application/javascript": [
       "\n",
       "            setTimeout(function() {\n",
       "                var nbb_cell_id = 2;\n",
       "                var nbb_unformatted_code = \"import matplotlib.pyplot as plt\\nimport numpy as np\\nimport tensorflow as tf\\nimport tensorflow_probability as tfp\\n\\ntf.keras.backend.set_floatx(\\\"float64\\\")\";\n",
       "                var nbb_formatted_code = \"import matplotlib.pyplot as plt\\nimport numpy as np\\nimport tensorflow as tf\\nimport tensorflow_probability as tfp\\n\\ntf.keras.backend.set_floatx(\\\"float64\\\")\";\n",
       "                var nbb_cells = Jupyter.notebook.get_cells();\n",
       "                for (var i = 0; i < nbb_cells.length; ++i) {\n",
       "                    if (nbb_cells[i].input_prompt_number == nbb_cell_id) {\n",
       "                        if (nbb_cells[i].get_text() == nbb_unformatted_code) {\n",
       "                             nbb_cells[i].set_text(nbb_formatted_code);\n",
       "                        }\n",
       "                        break;\n",
       "                    }\n",
       "                }\n",
       "            }, 500);\n",
       "            "
      ],
      "text/plain": [
       "<IPython.core.display.Javascript object>"
      ]
     },
     "metadata": {},
     "output_type": "display_data"
    }
   ],
   "source": [
    "import matplotlib.pyplot as plt\n",
    "import numpy as np\n",
    "import tensorflow as tf\n",
    "import tensorflow_probability as tfp\n",
    "\n",
    "tf.keras.backend.set_floatx(\"float64\")"
   ]
  },
  {
   "cell_type": "markdown",
   "metadata": {},
   "source": [
    "## 2.1 Loading and formatting images with TensorFlow"
   ]
  },
  {
   "cell_type": "markdown",
   "metadata": {},
   "source": [
    "1. Write a function ```load_img(path_to_img, max_dim)``` that reads and resizes an image. The function shall return a 4D-tensor ```img``` of type ```tf.float64``` with values in the range ```[0,1]```. Height and width of the image shall be scaled such that the maximum of ```img.shape[1]``` (height in pixels) and ```img.shape[2]``` (width in pixels) is exactly ```max_dim```. Moreover, the output should feature ```img.shape[0] = 1``` (batch size) and ```img.shape[3] = 3``` (number of channels). Proceed as follows:\n",
    "\n",
    "    1.1 Use ```tf.io.read_file```, ```tf.image.decode_image``` and ```tf.image.convert_image_dtype``` (in this order), to read and convert the input image.\n",
    "    \n",
    "    1.2 Use ```tf.image.resize``` to scale height and width by the same factor. Make sure that the maximum \n",
    "    \n",
    "    1.3 Use ```tf.expand_dims``` to add the batch dimension.\n",
    "    \n",
    "    1.4 Use ```tf.cast``` to make sure that the output has type ```tf.float64```.\n"
   ]
  },
  {
   "cell_type": "code",
   "execution_count": 23,
   "metadata": {},
   "outputs": [
    {
     "data": {
      "application/javascript": [
       "\n",
       "            setTimeout(function() {\n",
       "                var nbb_cell_id = 23;\n",
       "                var nbb_unformatted_code = \"# YOUR CODE\\ndef load_img(path_to_img, max_dim):\\n    image = tf.io.read_file(path_to_img)\\n    image = tf.io.decode_image(\\n        image, channels=3, dtype=tf.dtypes.float64, name=None, expand_animations=True\\n    )\\n    image = tf.image.convert_image_dtype(image, dtype=tf.float64, saturate=False)\\n    # the `print` executes during tracing.\\n    print(\\\"Initial shape: \\\", image.shape)\\n    image = tf.image.resize(image, [max_dim, max_dim])\\n    print(\\\"Final shape: \\\", image.shape)\\n    res = tf.expand_dims(image, 0)\\n    img = tf.cast(res, tf.float64)\\n    return img\";\n",
       "                var nbb_formatted_code = \"# YOUR CODE\\ndef load_img(path_to_img, max_dim):\\n    image = tf.io.read_file(path_to_img)\\n    image = tf.io.decode_image(\\n        image, channels=3, dtype=tf.dtypes.float64, name=None, expand_animations=True\\n    )\\n    image = tf.image.convert_image_dtype(image, dtype=tf.float64, saturate=False)\\n    # the `print` executes during tracing.\\n    print(\\\"Initial shape: \\\", image.shape)\\n    image = tf.image.resize(image, [max_dim, max_dim])\\n    print(\\\"Final shape: \\\", image.shape)\\n    res = tf.expand_dims(image, 0)\\n    img = tf.cast(res, tf.float64)\\n    return img\";\n",
       "                var nbb_cells = Jupyter.notebook.get_cells();\n",
       "                for (var i = 0; i < nbb_cells.length; ++i) {\n",
       "                    if (nbb_cells[i].input_prompt_number == nbb_cell_id) {\n",
       "                        if (nbb_cells[i].get_text() == nbb_unformatted_code) {\n",
       "                             nbb_cells[i].set_text(nbb_formatted_code);\n",
       "                        }\n",
       "                        break;\n",
       "                    }\n",
       "                }\n",
       "            }, 500);\n",
       "            "
      ],
      "text/plain": [
       "<IPython.core.display.Javascript object>"
      ]
     },
     "metadata": {},
     "output_type": "display_data"
    }
   ],
   "source": [
    "# YOUR CODE\n",
    "def load_img(path_to_img, max_dim):\n",
    "    image = tf.io.read_file(path_to_img)\n",
    "    image = tf.io.decode_image(\n",
    "        image, channels=3, dtype=tf.dtypes.float64, name=None, expand_animations=True\n",
    "    )\n",
    "    image = tf.image.convert_image_dtype(image, dtype=tf.float64, saturate=False)\n",
    "    # the `print` executes during tracing.\n",
    "    print(\"Initial shape: \", image.shape)\n",
    "    image = tf.image.resize(image, [max_dim, max_dim])\n",
    "    print(\"Final shape: \", image.shape)\n",
    "    res = tf.expand_dims(image, 0)\n",
    "    img = tf.cast(res, tf.float64)\n",
    "    return img"
   ]
  },
  {
   "cell_type": "markdown",
   "metadata": {},
   "source": [
    "2. Call ```load_img``` with ```max_dim = 512``` to load ```altgebaeude.jpg``` and ```vangogh.jpg``` and store them in variables ```content_image``` and ```style_image```, respectively.\n",
    "\n",
    "\n",
    "3. Use ```plt.imshow``` to display both images."
   ]
  },
  {
   "cell_type": "code",
   "execution_count": 24,
   "metadata": {},
   "outputs": [
    {
     "name": "stdout",
     "output_type": "stream",
     "text": [
      "Initial shape:  (600, 910, 3)\n",
      "Final shape:  (512, 512, 3)\n",
      "Initial shape:  (1014, 1280, 3)\n",
      "Final shape:  (512, 512, 3)\n"
     ]
    },
    {
     "data": {
      "application/javascript": [
       "\n",
       "            setTimeout(function() {\n",
       "                var nbb_cell_id = 24;\n",
       "                var nbb_unformatted_code = \"content_image = load_img(\\\"altgebaeude.jpg\\\", 512)\\nstyle_image = load_img(\\\"vangogh.jpg\\\", 512)\";\n",
       "                var nbb_formatted_code = \"content_image = load_img(\\\"altgebaeude.jpg\\\", 512)\\nstyle_image = load_img(\\\"vangogh.jpg\\\", 512)\";\n",
       "                var nbb_cells = Jupyter.notebook.get_cells();\n",
       "                for (var i = 0; i < nbb_cells.length; ++i) {\n",
       "                    if (nbb_cells[i].input_prompt_number == nbb_cell_id) {\n",
       "                        if (nbb_cells[i].get_text() == nbb_unformatted_code) {\n",
       "                             nbb_cells[i].set_text(nbb_formatted_code);\n",
       "                        }\n",
       "                        break;\n",
       "                    }\n",
       "                }\n",
       "            }, 500);\n",
       "            "
      ],
      "text/plain": [
       "<IPython.core.display.Javascript object>"
      ]
     },
     "metadata": {},
     "output_type": "display_data"
    }
   ],
   "source": [
    "content_image = load_img(\"altgebaeude.jpg\", 512)\n",
    "style_image = load_img(\"vangogh.jpg\", 512)"
   ]
  },
  {
   "cell_type": "code",
   "execution_count": 31,
   "metadata": {},
   "outputs": [
    {
     "name": "stdout",
     "output_type": "stream",
     "text": [
      "Content Image\n",
      "Batch Size:\t 1\n",
      "Height:\t 512\n",
      "Width:\t 512\n",
      "Number of Channels:\t 3\n",
      "Style Image\n",
      "Batch Size:\t 1\n",
      "Height:\t 512\n",
      "Width:\t 512\n",
      "Number of Channels:\t 3\n"
     ]
    },
    {
     "data": {
      "application/javascript": [
       "\n",
       "            setTimeout(function() {\n",
       "                var nbb_cell_id = 31;\n",
       "                var nbb_unformatted_code = \"print(\\\"Content Image\\\")\\nprint(f\\\"Batch Size:\\\\t {content_image.shape[0]}\\\")\\nprint(f\\\"Height:\\\\t {content_image.shape[1]}\\\")\\nprint(f\\\"Width:\\\\t {content_image.shape[2]}\\\")\\nprint(f\\\"Number of Channels:\\\\t {content_image.shape[3]}\\\")\\nprint(\\\"Style Image\\\")\\nprint(f\\\"Batch Size:\\\\t {style_image.shape[0]}\\\")\\nprint(f\\\"Height:\\\\t {style_image.shape[1]}\\\")\\nprint(f\\\"Width:\\\\t {style_image.shape[2]}\\\")\\nprint(f\\\"Number of Channels:\\\\t {style_image.shape[3]}\\\")\";\n",
       "                var nbb_formatted_code = \"print(\\\"Content Image\\\")\\nprint(f\\\"Batch Size:\\\\t {content_image.shape[0]}\\\")\\nprint(f\\\"Height:\\\\t {content_image.shape[1]}\\\")\\nprint(f\\\"Width:\\\\t {content_image.shape[2]}\\\")\\nprint(f\\\"Number of Channels:\\\\t {content_image.shape[3]}\\\")\\nprint(\\\"Style Image\\\")\\nprint(f\\\"Batch Size:\\\\t {style_image.shape[0]}\\\")\\nprint(f\\\"Height:\\\\t {style_image.shape[1]}\\\")\\nprint(f\\\"Width:\\\\t {style_image.shape[2]}\\\")\\nprint(f\\\"Number of Channels:\\\\t {style_image.shape[3]}\\\")\";\n",
       "                var nbb_cells = Jupyter.notebook.get_cells();\n",
       "                for (var i = 0; i < nbb_cells.length; ++i) {\n",
       "                    if (nbb_cells[i].input_prompt_number == nbb_cell_id) {\n",
       "                        if (nbb_cells[i].get_text() == nbb_unformatted_code) {\n",
       "                             nbb_cells[i].set_text(nbb_formatted_code);\n",
       "                        }\n",
       "                        break;\n",
       "                    }\n",
       "                }\n",
       "            }, 500);\n",
       "            "
      ],
      "text/plain": [
       "<IPython.core.display.Javascript object>"
      ]
     },
     "metadata": {},
     "output_type": "display_data"
    }
   ],
   "source": [
    "print(\"Content Image\")\n",
    "print(f\"Batch Size:\\t {content_image.shape[0]}\")\n",
    "print(f\"Height:\\t\\t {content_image.shape[1]}\")\n",
    "print(f\"Width:\\t\\t {content_image.shape[2]}\")\n",
    "print(f\"Number of Channels:\\t {content_image.shape[3]}\")\n",
    "print(\"Style Image\")\n",
    "print(f\"Batch Size:\\t {style_image.shape[0]}\")\n",
    "print(f\"Height:\\t {style_image.shape[1]}\")\n",
    "print(f\"Width:\\t {style_image.shape[2]}\")\n",
    "print(f\"Number of Channels:\\t {style_image.shape[3]}\")"
   ]
  },
  {
   "cell_type": "code",
   "execution_count": 11,
   "metadata": {},
   "outputs": [
    {
     "ename": "TypeError",
     "evalue": "Invalid shape (4,) for image data",
     "output_type": "error",
     "traceback": [
      "\u001b[1;31m---------------------------------------------------------------------------\u001b[0m",
      "\u001b[1;31mTypeError\u001b[0m                                 Traceback (most recent call last)",
      "Cell \u001b[1;32mIn [11], line 3\u001b[0m\n\u001b[0;32m      1\u001b[0m plt\u001b[38;5;241m.\u001b[39mfigure(figsize\u001b[38;5;241m=\u001b[39m(\u001b[38;5;241m10\u001b[39m, \u001b[38;5;241m10\u001b[39m))\n\u001b[0;32m      2\u001b[0m plt\u001b[38;5;241m.\u001b[39msubplot(\u001b[38;5;241m1\u001b[39m, \u001b[38;5;241m2\u001b[39m, \u001b[38;5;241m1\u001b[39m)\n\u001b[1;32m----> 3\u001b[0m \u001b[43mplt\u001b[49m\u001b[38;5;241;43m.\u001b[39;49m\u001b[43mimshow\u001b[49m\u001b[43m(\u001b[49m\u001b[43mcontent_image\u001b[49m\u001b[43m)\u001b[49m\n\u001b[0;32m      4\u001b[0m plt\u001b[38;5;241m.\u001b[39msubplot(\u001b[38;5;241m1\u001b[39m, \u001b[38;5;241m2\u001b[39m, \u001b[38;5;241m2\u001b[39m)\n\u001b[0;32m      5\u001b[0m plt\u001b[38;5;241m.\u001b[39mimshow(style_image)\n",
      "File \u001b[1;32m~\\miniconda3\\envs\\tensorflow\\lib\\site-packages\\matplotlib\\_api\\deprecation.py:454\u001b[0m, in \u001b[0;36mmake_keyword_only.<locals>.wrapper\u001b[1;34m(*args, **kwargs)\u001b[0m\n\u001b[0;32m    448\u001b[0m \u001b[38;5;28;01mif\u001b[39;00m \u001b[38;5;28mlen\u001b[39m(args) \u001b[38;5;241m>\u001b[39m name_idx:\n\u001b[0;32m    449\u001b[0m     warn_deprecated(\n\u001b[0;32m    450\u001b[0m         since, message\u001b[38;5;241m=\u001b[39m\u001b[38;5;124m\"\u001b[39m\u001b[38;5;124mPassing the \u001b[39m\u001b[38;5;132;01m%(name)s\u001b[39;00m\u001b[38;5;124m \u001b[39m\u001b[38;5;132;01m%(obj_type)s\u001b[39;00m\u001b[38;5;124m \u001b[39m\u001b[38;5;124m\"\u001b[39m\n\u001b[0;32m    451\u001b[0m         \u001b[38;5;124m\"\u001b[39m\u001b[38;5;124mpositionally is deprecated since Matplotlib \u001b[39m\u001b[38;5;132;01m%(since)s\u001b[39;00m\u001b[38;5;124m; the \u001b[39m\u001b[38;5;124m\"\u001b[39m\n\u001b[0;32m    452\u001b[0m         \u001b[38;5;124m\"\u001b[39m\u001b[38;5;124mparameter will become keyword-only \u001b[39m\u001b[38;5;132;01m%(removal)s\u001b[39;00m\u001b[38;5;124m.\u001b[39m\u001b[38;5;124m\"\u001b[39m,\n\u001b[0;32m    453\u001b[0m         name\u001b[38;5;241m=\u001b[39mname, obj_type\u001b[38;5;241m=\u001b[39m\u001b[38;5;124mf\u001b[39m\u001b[38;5;124m\"\u001b[39m\u001b[38;5;124mparameter of \u001b[39m\u001b[38;5;132;01m{\u001b[39;00mfunc\u001b[38;5;241m.\u001b[39m\u001b[38;5;18m__name__\u001b[39m\u001b[38;5;132;01m}\u001b[39;00m\u001b[38;5;124m()\u001b[39m\u001b[38;5;124m\"\u001b[39m)\n\u001b[1;32m--> 454\u001b[0m \u001b[38;5;28;01mreturn\u001b[39;00m func(\u001b[38;5;241m*\u001b[39margs, \u001b[38;5;241m*\u001b[39m\u001b[38;5;241m*\u001b[39mkwargs)\n",
      "File \u001b[1;32m~\\miniconda3\\envs\\tensorflow\\lib\\site-packages\\matplotlib\\pyplot.py:2623\u001b[0m, in \u001b[0;36mimshow\u001b[1;34m(X, cmap, norm, aspect, interpolation, alpha, vmin, vmax, origin, extent, interpolation_stage, filternorm, filterrad, resample, url, data, **kwargs)\u001b[0m\n\u001b[0;32m   2617\u001b[0m \u001b[38;5;129m@_copy_docstring_and_deprecators\u001b[39m(Axes\u001b[38;5;241m.\u001b[39mimshow)\n\u001b[0;32m   2618\u001b[0m \u001b[38;5;28;01mdef\u001b[39;00m \u001b[38;5;21mimshow\u001b[39m(\n\u001b[0;32m   2619\u001b[0m         X, cmap\u001b[38;5;241m=\u001b[39m\u001b[38;5;28;01mNone\u001b[39;00m, norm\u001b[38;5;241m=\u001b[39m\u001b[38;5;28;01mNone\u001b[39;00m, aspect\u001b[38;5;241m=\u001b[39m\u001b[38;5;28;01mNone\u001b[39;00m, interpolation\u001b[38;5;241m=\u001b[39m\u001b[38;5;28;01mNone\u001b[39;00m,\n\u001b[0;32m   2620\u001b[0m         alpha\u001b[38;5;241m=\u001b[39m\u001b[38;5;28;01mNone\u001b[39;00m, vmin\u001b[38;5;241m=\u001b[39m\u001b[38;5;28;01mNone\u001b[39;00m, vmax\u001b[38;5;241m=\u001b[39m\u001b[38;5;28;01mNone\u001b[39;00m, origin\u001b[38;5;241m=\u001b[39m\u001b[38;5;28;01mNone\u001b[39;00m, extent\u001b[38;5;241m=\u001b[39m\u001b[38;5;28;01mNone\u001b[39;00m, \u001b[38;5;241m*\u001b[39m,\n\u001b[0;32m   2621\u001b[0m         interpolation_stage\u001b[38;5;241m=\u001b[39m\u001b[38;5;28;01mNone\u001b[39;00m, filternorm\u001b[38;5;241m=\u001b[39m\u001b[38;5;28;01mTrue\u001b[39;00m, filterrad\u001b[38;5;241m=\u001b[39m\u001b[38;5;241m4.0\u001b[39m,\n\u001b[0;32m   2622\u001b[0m         resample\u001b[38;5;241m=\u001b[39m\u001b[38;5;28;01mNone\u001b[39;00m, url\u001b[38;5;241m=\u001b[39m\u001b[38;5;28;01mNone\u001b[39;00m, data\u001b[38;5;241m=\u001b[39m\u001b[38;5;28;01mNone\u001b[39;00m, \u001b[38;5;241m*\u001b[39m\u001b[38;5;241m*\u001b[39mkwargs):\n\u001b[1;32m-> 2623\u001b[0m     __ret \u001b[38;5;241m=\u001b[39m gca()\u001b[38;5;241m.\u001b[39mimshow(\n\u001b[0;32m   2624\u001b[0m         X, cmap\u001b[38;5;241m=\u001b[39mcmap, norm\u001b[38;5;241m=\u001b[39mnorm, aspect\u001b[38;5;241m=\u001b[39maspect,\n\u001b[0;32m   2625\u001b[0m         interpolation\u001b[38;5;241m=\u001b[39minterpolation, alpha\u001b[38;5;241m=\u001b[39malpha, vmin\u001b[38;5;241m=\u001b[39mvmin,\n\u001b[0;32m   2626\u001b[0m         vmax\u001b[38;5;241m=\u001b[39mvmax, origin\u001b[38;5;241m=\u001b[39morigin, extent\u001b[38;5;241m=\u001b[39mextent,\n\u001b[0;32m   2627\u001b[0m         interpolation_stage\u001b[38;5;241m=\u001b[39minterpolation_stage,\n\u001b[0;32m   2628\u001b[0m         filternorm\u001b[38;5;241m=\u001b[39mfilternorm, filterrad\u001b[38;5;241m=\u001b[39mfilterrad, resample\u001b[38;5;241m=\u001b[39mresample,\n\u001b[0;32m   2629\u001b[0m         url\u001b[38;5;241m=\u001b[39murl, \u001b[38;5;241m*\u001b[39m\u001b[38;5;241m*\u001b[39m({\u001b[38;5;124m\"\u001b[39m\u001b[38;5;124mdata\u001b[39m\u001b[38;5;124m\"\u001b[39m: data} \u001b[38;5;28;01mif\u001b[39;00m data \u001b[38;5;129;01mis\u001b[39;00m \u001b[38;5;129;01mnot\u001b[39;00m \u001b[38;5;28;01mNone\u001b[39;00m \u001b[38;5;28;01melse\u001b[39;00m {}),\n\u001b[0;32m   2630\u001b[0m         \u001b[38;5;241m*\u001b[39m\u001b[38;5;241m*\u001b[39mkwargs)\n\u001b[0;32m   2631\u001b[0m     sci(__ret)\n\u001b[0;32m   2632\u001b[0m     \u001b[38;5;28;01mreturn\u001b[39;00m __ret\n",
      "File \u001b[1;32m~\\miniconda3\\envs\\tensorflow\\lib\\site-packages\\matplotlib\\_api\\deprecation.py:454\u001b[0m, in \u001b[0;36mmake_keyword_only.<locals>.wrapper\u001b[1;34m(*args, **kwargs)\u001b[0m\n\u001b[0;32m    448\u001b[0m \u001b[38;5;28;01mif\u001b[39;00m \u001b[38;5;28mlen\u001b[39m(args) \u001b[38;5;241m>\u001b[39m name_idx:\n\u001b[0;32m    449\u001b[0m     warn_deprecated(\n\u001b[0;32m    450\u001b[0m         since, message\u001b[38;5;241m=\u001b[39m\u001b[38;5;124m\"\u001b[39m\u001b[38;5;124mPassing the \u001b[39m\u001b[38;5;132;01m%(name)s\u001b[39;00m\u001b[38;5;124m \u001b[39m\u001b[38;5;132;01m%(obj_type)s\u001b[39;00m\u001b[38;5;124m \u001b[39m\u001b[38;5;124m\"\u001b[39m\n\u001b[0;32m    451\u001b[0m         \u001b[38;5;124m\"\u001b[39m\u001b[38;5;124mpositionally is deprecated since Matplotlib \u001b[39m\u001b[38;5;132;01m%(since)s\u001b[39;00m\u001b[38;5;124m; the \u001b[39m\u001b[38;5;124m\"\u001b[39m\n\u001b[0;32m    452\u001b[0m         \u001b[38;5;124m\"\u001b[39m\u001b[38;5;124mparameter will become keyword-only \u001b[39m\u001b[38;5;132;01m%(removal)s\u001b[39;00m\u001b[38;5;124m.\u001b[39m\u001b[38;5;124m\"\u001b[39m,\n\u001b[0;32m    453\u001b[0m         name\u001b[38;5;241m=\u001b[39mname, obj_type\u001b[38;5;241m=\u001b[39m\u001b[38;5;124mf\u001b[39m\u001b[38;5;124m\"\u001b[39m\u001b[38;5;124mparameter of \u001b[39m\u001b[38;5;132;01m{\u001b[39;00mfunc\u001b[38;5;241m.\u001b[39m\u001b[38;5;18m__name__\u001b[39m\u001b[38;5;132;01m}\u001b[39;00m\u001b[38;5;124m()\u001b[39m\u001b[38;5;124m\"\u001b[39m)\n\u001b[1;32m--> 454\u001b[0m \u001b[38;5;28;01mreturn\u001b[39;00m func(\u001b[38;5;241m*\u001b[39margs, \u001b[38;5;241m*\u001b[39m\u001b[38;5;241m*\u001b[39mkwargs)\n",
      "File \u001b[1;32m~\\miniconda3\\envs\\tensorflow\\lib\\site-packages\\matplotlib\\__init__.py:1423\u001b[0m, in \u001b[0;36m_preprocess_data.<locals>.inner\u001b[1;34m(ax, data, *args, **kwargs)\u001b[0m\n\u001b[0;32m   1420\u001b[0m \u001b[38;5;129m@functools\u001b[39m\u001b[38;5;241m.\u001b[39mwraps(func)\n\u001b[0;32m   1421\u001b[0m \u001b[38;5;28;01mdef\u001b[39;00m \u001b[38;5;21minner\u001b[39m(ax, \u001b[38;5;241m*\u001b[39margs, data\u001b[38;5;241m=\u001b[39m\u001b[38;5;28;01mNone\u001b[39;00m, \u001b[38;5;241m*\u001b[39m\u001b[38;5;241m*\u001b[39mkwargs):\n\u001b[0;32m   1422\u001b[0m     \u001b[38;5;28;01mif\u001b[39;00m data \u001b[38;5;129;01mis\u001b[39;00m \u001b[38;5;28;01mNone\u001b[39;00m:\n\u001b[1;32m-> 1423\u001b[0m         \u001b[38;5;28;01mreturn\u001b[39;00m func(ax, \u001b[38;5;241m*\u001b[39m\u001b[38;5;28mmap\u001b[39m(sanitize_sequence, args), \u001b[38;5;241m*\u001b[39m\u001b[38;5;241m*\u001b[39mkwargs)\n\u001b[0;32m   1425\u001b[0m     bound \u001b[38;5;241m=\u001b[39m new_sig\u001b[38;5;241m.\u001b[39mbind(ax, \u001b[38;5;241m*\u001b[39margs, \u001b[38;5;241m*\u001b[39m\u001b[38;5;241m*\u001b[39mkwargs)\n\u001b[0;32m   1426\u001b[0m     auto_label \u001b[38;5;241m=\u001b[39m (bound\u001b[38;5;241m.\u001b[39marguments\u001b[38;5;241m.\u001b[39mget(label_namer)\n\u001b[0;32m   1427\u001b[0m                   \u001b[38;5;129;01mor\u001b[39;00m bound\u001b[38;5;241m.\u001b[39mkwargs\u001b[38;5;241m.\u001b[39mget(label_namer))\n",
      "File \u001b[1;32m~\\miniconda3\\envs\\tensorflow\\lib\\site-packages\\matplotlib\\axes\\_axes.py:5604\u001b[0m, in \u001b[0;36mAxes.imshow\u001b[1;34m(self, X, cmap, norm, aspect, interpolation, alpha, vmin, vmax, origin, extent, interpolation_stage, filternorm, filterrad, resample, url, **kwargs)\u001b[0m\n\u001b[0;32m   5596\u001b[0m \u001b[38;5;28mself\u001b[39m\u001b[38;5;241m.\u001b[39mset_aspect(aspect)\n\u001b[0;32m   5597\u001b[0m im \u001b[38;5;241m=\u001b[39m mimage\u001b[38;5;241m.\u001b[39mAxesImage(\u001b[38;5;28mself\u001b[39m, cmap\u001b[38;5;241m=\u001b[39mcmap, norm\u001b[38;5;241m=\u001b[39mnorm,\n\u001b[0;32m   5598\u001b[0m                       interpolation\u001b[38;5;241m=\u001b[39minterpolation, origin\u001b[38;5;241m=\u001b[39morigin,\n\u001b[0;32m   5599\u001b[0m                       extent\u001b[38;5;241m=\u001b[39mextent, filternorm\u001b[38;5;241m=\u001b[39mfilternorm,\n\u001b[0;32m   5600\u001b[0m                       filterrad\u001b[38;5;241m=\u001b[39mfilterrad, resample\u001b[38;5;241m=\u001b[39mresample,\n\u001b[0;32m   5601\u001b[0m                       interpolation_stage\u001b[38;5;241m=\u001b[39minterpolation_stage,\n\u001b[0;32m   5602\u001b[0m                       \u001b[38;5;241m*\u001b[39m\u001b[38;5;241m*\u001b[39mkwargs)\n\u001b[1;32m-> 5604\u001b[0m \u001b[43mim\u001b[49m\u001b[38;5;241;43m.\u001b[39;49m\u001b[43mset_data\u001b[49m\u001b[43m(\u001b[49m\u001b[43mX\u001b[49m\u001b[43m)\u001b[49m\n\u001b[0;32m   5605\u001b[0m im\u001b[38;5;241m.\u001b[39mset_alpha(alpha)\n\u001b[0;32m   5606\u001b[0m \u001b[38;5;28;01mif\u001b[39;00m im\u001b[38;5;241m.\u001b[39mget_clip_path() \u001b[38;5;129;01mis\u001b[39;00m \u001b[38;5;28;01mNone\u001b[39;00m:\n\u001b[0;32m   5607\u001b[0m     \u001b[38;5;66;03m# image does not already have clipping set, clip to axes patch\u001b[39;00m\n",
      "File \u001b[1;32m~\\miniconda3\\envs\\tensorflow\\lib\\site-packages\\matplotlib\\image.py:710\u001b[0m, in \u001b[0;36m_ImageBase.set_data\u001b[1;34m(self, A)\u001b[0m\n\u001b[0;32m    706\u001b[0m     \u001b[38;5;28mself\u001b[39m\u001b[38;5;241m.\u001b[39m_A \u001b[38;5;241m=\u001b[39m \u001b[38;5;28mself\u001b[39m\u001b[38;5;241m.\u001b[39m_A[:, :, \u001b[38;5;241m0\u001b[39m]\n\u001b[0;32m    708\u001b[0m \u001b[38;5;28;01mif\u001b[39;00m \u001b[38;5;129;01mnot\u001b[39;00m (\u001b[38;5;28mself\u001b[39m\u001b[38;5;241m.\u001b[39m_A\u001b[38;5;241m.\u001b[39mndim \u001b[38;5;241m==\u001b[39m \u001b[38;5;241m2\u001b[39m\n\u001b[0;32m    709\u001b[0m         \u001b[38;5;129;01mor\u001b[39;00m \u001b[38;5;28mself\u001b[39m\u001b[38;5;241m.\u001b[39m_A\u001b[38;5;241m.\u001b[39mndim \u001b[38;5;241m==\u001b[39m \u001b[38;5;241m3\u001b[39m \u001b[38;5;129;01mand\u001b[39;00m \u001b[38;5;28mself\u001b[39m\u001b[38;5;241m.\u001b[39m_A\u001b[38;5;241m.\u001b[39mshape[\u001b[38;5;241m-\u001b[39m\u001b[38;5;241m1\u001b[39m] \u001b[38;5;129;01min\u001b[39;00m [\u001b[38;5;241m3\u001b[39m, \u001b[38;5;241m4\u001b[39m]):\n\u001b[1;32m--> 710\u001b[0m     \u001b[38;5;28;01mraise\u001b[39;00m \u001b[38;5;167;01mTypeError\u001b[39;00m(\u001b[38;5;124m\"\u001b[39m\u001b[38;5;124mInvalid shape \u001b[39m\u001b[38;5;132;01m{}\u001b[39;00m\u001b[38;5;124m for image data\u001b[39m\u001b[38;5;124m\"\u001b[39m\n\u001b[0;32m    711\u001b[0m                     \u001b[38;5;241m.\u001b[39mformat(\u001b[38;5;28mself\u001b[39m\u001b[38;5;241m.\u001b[39m_A\u001b[38;5;241m.\u001b[39mshape))\n\u001b[0;32m    713\u001b[0m \u001b[38;5;28;01mif\u001b[39;00m \u001b[38;5;28mself\u001b[39m\u001b[38;5;241m.\u001b[39m_A\u001b[38;5;241m.\u001b[39mndim \u001b[38;5;241m==\u001b[39m \u001b[38;5;241m3\u001b[39m:\n\u001b[0;32m    714\u001b[0m     \u001b[38;5;66;03m# If the input data has values outside the valid range (after\u001b[39;00m\n\u001b[0;32m    715\u001b[0m     \u001b[38;5;66;03m# normalisation), we issue a warning and then clip X to the bounds\u001b[39;00m\n\u001b[0;32m    716\u001b[0m     \u001b[38;5;66;03m# - otherwise casting wraps extreme values, hiding outliers and\u001b[39;00m\n\u001b[0;32m    717\u001b[0m     \u001b[38;5;66;03m# making reliable interpretation impossible.\u001b[39;00m\n\u001b[0;32m    718\u001b[0m     high \u001b[38;5;241m=\u001b[39m \u001b[38;5;241m255\u001b[39m \u001b[38;5;28;01mif\u001b[39;00m np\u001b[38;5;241m.\u001b[39missubdtype(\u001b[38;5;28mself\u001b[39m\u001b[38;5;241m.\u001b[39m_A\u001b[38;5;241m.\u001b[39mdtype, np\u001b[38;5;241m.\u001b[39minteger) \u001b[38;5;28;01melse\u001b[39;00m \u001b[38;5;241m1\u001b[39m\n",
      "\u001b[1;31mTypeError\u001b[0m: Invalid shape (4,) for image data"
     ]
    },
    {
     "data": {
      "image/png": "[encoded data removed]",
      "text/plain": [
       "<Figure size 1000x1000 with 1 Axes>"
      ]
     },
     "metadata": {},
     "output_type": "display_data"
    },
    {
     "data": {
      "application/javascript": [
       "\n",
       "            setTimeout(function() {\n",
       "                var nbb_cell_id = 11;\n",
       "                var nbb_unformatted_code = \"plt.figure(figsize=(10, 10))\\nplt.subplot(1, 2, 1)\\nplt.imshow(content_image)\\nplt.subplot(1, 2, 2)\\nplt.imshow(style_image)\\nplt.show()\";\n",
       "                var nbb_formatted_code = \"plt.figure(figsize=(10, 10))\\nplt.subplot(1, 2, 1)\\nplt.imshow(content_image)\\nplt.subplot(1, 2, 2)\\nplt.imshow(style_image)\\nplt.show()\";\n",
       "                var nbb_cells = Jupyter.notebook.get_cells();\n",
       "                for (var i = 0; i < nbb_cells.length; ++i) {\n",
       "                    if (nbb_cells[i].input_prompt_number == nbb_cell_id) {\n",
       "                        if (nbb_cells[i].get_text() == nbb_unformatted_code) {\n",
       "                             nbb_cells[i].set_text(nbb_formatted_code);\n",
       "                        }\n",
       "                        break;\n",
       "                    }\n",
       "                }\n",
       "            }, 500);\n",
       "            "
      ],
      "text/plain": [
       "<IPython.core.display.Javascript object>"
      ]
     },
     "metadata": {},
     "output_type": "display_data"
    }
   ],
   "source": [
    "plt.figure(figsize=(10, 10))\n",
    "plt.subplot(1, 2, 1)\n",
    "plt.imshow(content_image)\n",
    "plt.subplot(1, 2, 2)\n",
    "plt.imshow(style_image)\n",
    "plt.show()"
   ]
  },
  {
   "cell_type": "code",
   "execution_count": null,
   "metadata": {},
   "outputs": [],
   "source": [
    "# YOUR CODE"
   ]
  },
  {
   "cell_type": "markdown",
   "metadata": {},
   "source": [
    "4. Apply ```tf.shape``` to ```content_image``` and ```style_image``` and diplay both outputs."
   ]
  },
  {
   "cell_type": "code",
   "execution_count": null,
   "metadata": {},
   "outputs": [],
   "source": [
    "# YOUR CODE"
   ]
  },
  {
   "cell_type": "markdown",
   "metadata": {},
   "source": [
    "**Checkpoint:** Your output should look like this:\n",
    "\n",
    "```\n",
    "tf.Tensor([  1 337 512   3], shape=(4,), dtype=int32)\n",
    "tf.Tensor([  1 405 512   3], shape=(4,), dtype=int32)\n",
    "```"
   ]
  },
  {
   "cell_type": "markdown",
   "metadata": {},
   "source": [
    "## 2.2 Using pretrained models in Keras\n",
    "\n",
    "```tf.keras.applications``` lets you load various readily trained neural networks, for example ```VGG19``` which we are going to use here. Before starting with Neural Style Transfer, let us see how to use a pretrained model for multiclass classification.\n",
    "\n",
    "5. Call ```tf.keras.applications.VGG19``` with arguments ```include_top = True``` and ```weights = \"imagenet\"```, and store the output in a variable ```vgg```.\n",
    "\n",
    "The first-mentioned argument is to get both the preceding convolutional layers *and* the subsequent fully connected layers at the top of ```VGG19```. Vice versa, ```include_top = False``` lets you load the network without fully connected layers. The version without fully connected layers has the advantage that images of arbitrary height and width are accepted as input and can be propagated through the network (we will make use of this for Neural Style Transfer). The variant you should have loaded now accepts only ```224 x 224``` images. The latter argument ```weights = \"imagenet\"``` implies that a network is loaded that was pretrained on the ```imagenet``` dataset. By means of ```weights = None```, you can also get a randomly initialized version."
   ]
  },
  {
   "cell_type": "code",
   "execution_count": null,
   "metadata": {},
   "outputs": [],
   "source": [
    "# YOUR CODE"
   ]
  },
  {
   "cell_type": "markdown",
   "metadata": {},
   "source": [
    "6. Use ```tf.keras.models.Model.summary``` to get an overview of the model."
   ]
  },
  {
   "cell_type": "code",
   "execution_count": null,
   "metadata": {
    "scrolled": true
   },
   "outputs": [],
   "source": [
    "# YOUR CODE"
   ]
  },
  {
   "cell_type": "markdown",
   "metadata": {},
   "source": [
    "Each model in ```keras.applications``` has an own preprocessing function that should be applied to inputs before feeding them into the network. In case of ```VGG19```, the preprocessing function expects an image with integer pixel values between 0 and 255 as input.\n",
    "\n",
    "7. Apply ```tf.keras.applications.vgg19.preprocess_input``` to a version of ```content_image``` with accordingly scaled pixel values and store the output in ```content_image_pp```. Afterwards, use ```tf.image.resize``` to rescale ```content_image_pp``` such that you can apply ```vgg``` to the result ```content_image_rs```. Do the latter and store the output of ```vgg``` in ```predicted_probabilities```."
   ]
  },
  {
   "cell_type": "code",
   "execution_count": null,
   "metadata": {},
   "outputs": [],
   "source": [
    "# YOUR CODE"
   ]
  },
  {
   "cell_type": "markdown",
   "metadata": {},
   "source": [
    "8. Now call ```tf.keras.applications.vgg19.decode_predictions``` with arguments ```predicted_probabilities.numpy()``` and ```top = 10``` to display the top 10 classes and associated probabilities for the given input. Store the output in ```predicted_top_10``` and display ```[(class_name, prob) for (number, class_name, prob) in predicted_top_10[0]]```."
   ]
  },
  {
   "cell_type": "code",
   "execution_count": null,
   "metadata": {},
   "outputs": [],
   "source": [
    "# YOUR CODE"
   ]
  },
  {
   "cell_type": "markdown",
   "metadata": {},
   "source": [
    "**Checkpoint:** You should have got the following output:\n",
    "```\n",
    "[('palace', 0.9914493749464944),\n",
    " ('triumphal_arch', 0.00267970467587212),\n",
    " ('monastery', 0.0013206769341534597),\n",
    " ('library', 0.0011177809930798567),\n",
    " ('fountain', 0.0008800198818778909),\n",
    " ('church', 0.0004445435231895076),\n",
    " ('castle', 0.0003099415218987508),\n",
    " ('obelisk', 0.00029764423272215536),\n",
    " ('dome', 0.00022929634370079404),\n",
    " ('cinema', 0.00022750031564633795)]\n",
    " ```\n",
    "\n",
    "So, according to ```VGG19```, our old building is most probably a palace!\n",
    "\n",
    "9. Repeat 7. und 8. with ```style_image``` as input."
   ]
  },
  {
   "cell_type": "code",
   "execution_count": null,
   "metadata": {},
   "outputs": [],
   "source": [
    "# YOUR CODE"
   ]
  },
  {
   "cell_type": "markdown",
   "metadata": {},
   "source": [
    "## 2.3 Defining a feature extractor\n",
    "\n",
    "Now, we come to the main part of this project: *Neural Style Transfer*! To evaluate the objective\n",
    "\n",
    "$$J(\\mathbf{x}, \\mathbf{c}, \\mathbf{s}) = \\alpha \\ J_\\mathrm{content}(\\mathbf{x}, \\mathbf{c}) + \\beta \\ J_\\mathrm{style}(\\mathbf{x}, \\mathbf{s})\\qquad (*)$$\n",
    "\n",
    "we need a *feature extractor*. The feature extractor shall provide us outputs $\\mathrm{a}^{[\\ell](\\mathbf{x})}$ and $\\mathrm{a}^{[\\ell](\\mathbf{c})}$ of selected convolutional layers of ```VGG19``` that we need to evaluate the content loss:\n",
    "\n",
    "$$J_\\mathrm{content}(\\mathbf{x}, \\mathbf{c}) = \\frac{1}{2 \\vert L_\\mathrm{content}\\vert} \\sum_{\\ell\\in L_\\mathrm{content}} \\Vert \\mathrm{a}^{[\\ell](\\mathbf{x})} - \\mathrm{a}^{[\\ell](\\mathbf{c})} \\Vert_2^2\\qquad (**)$$\n",
    "\n",
    "The set $L_\\mathrm{content}$ contains all indices of layers that shall be considered in the content loss. Accordingly, $L_\\mathrm{style}$ refers to layers that shall be considered in the style loss.\n",
    "\n",
    "Respective outputs are used to compute gram matrices $\\mathrm{G}^{[\\ell](\\mathbf{x})}$ and $\\mathrm{G}^{[\\ell](\\mathbf{s})}$ that we need to evaluate the style loss:\n",
    "\n",
    "$$J_\\mathrm{style}(\\mathbf{x}, \\mathbf{s}) = \\frac{1}{4 \\vert L_\\mathrm{style}\\vert} \\sum_{\\ell\\in L_\\mathrm{style}} \\Vert \\mathrm{G}^{[\\ell](\\mathbf{x})} - \\mathrm{G}^{[\\ell](\\mathbf{s})} \\Vert_2^2\\qquad (***)$$\n",
    "\n",
    "Therein, the gram matrices are computed via\n",
    "\n",
    "$$\\mathrm{G}^{[\\ell](\\mathbf{x})}_{i, j} = \\frac{1}{n^{[\\ell]}_H n^{[\\ell]}_W n^{[\\ell]}_C} \\langle\\mathrm{a}^{[\\ell](\\mathbf{x})}_{i}, \\mathrm{a}^{[\\ell](\\mathbf{x})}_{j}\\rangle\\quad\\text{für}\\quad i, j =1,\\dots,n^{[\\ell]}_C\\qquad (****)$$\n",
    "\n",
    "and $\\mathrm{a}^{[\\ell](\\mathbf{x})}_{i}$ and $\\mathrm{a}^{[\\ell](\\mathbf{x})}_{j}$ represent the $i$-th and $j$-th channel of $\\mathrm{a}^{[\\ell](\\mathbf{x})}$, respectively.\n",
    "\n",
    "\n",
    "10. Load ```VGG19``` again, this time with ```include_top = False```. Afterwards, display the names of all layers in ```vgg.layers```."
   ]
  },
  {
   "cell_type": "code",
   "execution_count": null,
   "metadata": {},
   "outputs": [],
   "source": [
    "# YOUR CODE"
   ]
  },
  {
   "cell_type": "markdown",
   "metadata": {},
   "source": [
    "**Checkpoint:** Your output should look as follows:\n",
    "```\n",
    "input_2\n",
    "block1_conv1\n",
    "block1_conv2\n",
    "block1_pool\n",
    "block2_conv1\n",
    "block2_conv2\n",
    "block2_pool\n",
    "block3_conv1\n",
    "block3_conv2\n",
    "block3_conv3\n",
    "block3_conv4\n",
    "block3_pool\n",
    "block4_conv1\n",
    "block4_conv2\n",
    "block4_conv3\n",
    "block4_conv4\n",
    "block4_pool\n",
    "block5_conv1\n",
    "block5_conv2\n",
    "block5_conv3\n",
    "block5_conv4\n",
    "block5_pool\n",
    "```\n",
    "\n",
    "This output includes all layers, that can be added to $L_\\mathrm{content}$ and $L_\\mathrm{style}$. For the moment, let us fix the following:\n",
    "\n",
    "11. Create two lists ```content_layers``` and ```style_layers```. Initialize ```content_layers``` with a single element ```\"block4_conv2\"``` and ```style_layers``` with five elements ```\"block1_conv1\", ..., \"block5_conv1\"```."
   ]
  },
  {
   "cell_type": "code",
   "execution_count": null,
   "metadata": {},
   "outputs": [],
   "source": [
    "# YOUR CODE"
   ]
  },
  {
   "cell_type": "markdown",
   "metadata": {},
   "source": [
    "12. Write a function ```vgg_layers``` that takes as input a list of strings ```layer_names``` and returns an object ```model``` of type ```keras.models.Model```. Start by loading a pretrained ```VGG19``` without fully connected layers. Then, use the Keras Functional API to create a model ```model``` that has the same input layer as ```VGG19``` and features a list of output layers corresponding to the subset of ```VGG19``` layers specified in ```layer_names```."
   ]
  },
  {
   "cell_type": "code",
   "execution_count": null,
   "metadata": {},
   "outputs": [],
   "source": [
    "# YOUR CODE"
   ]
  },
  {
   "cell_type": "code",
   "execution_count": null,
   "metadata": {},
   "outputs": [],
   "source": [
    "vgg_layers(style_layers).output"
   ]
  },
  {
   "cell_type": "markdown",
   "metadata": {},
   "source": [
    "**Checkpoint:** The above call of ```vgg_layers(style_layers).output``` should create the following output:\n",
    "```\n",
    "[<KerasTensor: shape=(None, None, None, 64) dtype=float64 (created by layer 'block1_conv1')>,\n",
    " <KerasTensor: shape=(None, None, None, 128) dtype=float64 (created by layer 'block2_conv1')>,\n",
    " <KerasTensor: shape=(None, None, None, 256) dtype=float64 (created by layer 'block3_conv1')>,\n",
    " <KerasTensor: shape=(None, None, None, 512) dtype=float64 (created by layer 'block4_conv1')>,\n",
    " <KerasTensor: shape=(None, None, None, 512) dtype=float64 (created by layer 'block5_conv1')>]\n",
    " ```"
   ]
  },
  {
   "cell_type": "markdown",
   "metadata": {},
   "source": [
    "13. Write a function ```gram_matrix``` that gets as input a 4D-tensor ```input_tensor``` (corresponding to $\\mathbf{a}^{[\\ell](\\mathbf{x})}$ and $\\mathbf{a}^{[\\ell](\\mathbf{s})}$, respectively) and returns the Gram matrix of this tensor according to $(****)$. To that end, apply the function ```tf.linalg.einsum``` conveniently as a first step. Keep in mind that the leading dimension of ```input_tensor``` represents the batch size and should remain untouched during Gram matrix computation."
   ]
  },
  {
   "cell_type": "code",
   "execution_count": null,
   "metadata": {},
   "outputs": [],
   "source": [
    "# YOUR CODE"
   ]
  },
  {
   "cell_type": "code",
   "execution_count": null,
   "metadata": {
    "scrolled": true
   },
   "outputs": [],
   "source": [
    "gram_matrix(vgg_layers(style_layers)(content_image)[0])"
   ]
  },
  {
   "cell_type": "markdown",
   "metadata": {},
   "source": [
    "**Checkpoint:** The above call of ```gram_matrix(vgg_layers(style_layers)(content_image)[0])``` should produce the following output:\n",
    "```\n",
    "<tf.Tensor: shape=(1, 64, 64), dtype=float64, numpy=\n",
    "array([[[0.01065388, 0.00390675, 0.00425856, ..., 0.00097763,\n",
    "         0.00566108, 0.00761762],\n",
    "        [0.00390675, 0.0019675 , 0.00208546, ..., 0.00022037,\n",
    "         0.00267012, 0.00339072],\n",
    "        [0.00425856, 0.00208546, 0.00227649, ..., 0.00021288,\n",
    "         0.00297196, 0.00380253],\n",
    "        ...,\n",
    "        [0.00097763, 0.00022037, 0.00021288, ..., 0.00061053,\n",
    "         0.00064032, 0.0006466 ],\n",
    "        [0.00566108, 0.00267012, 0.00297196, ..., 0.00064032,\n",
    "         0.00492798, 0.00563125],\n",
    "        [0.00761762, 0.00339072, 0.00380253, ..., 0.0006466 ,\n",
    "         0.00563125, 0.00693724]]])>\n",
    "```"
   ]
  },
  {
   "cell_type": "markdown",
   "metadata": {},
   "source": [
    "14. Complete the method ```call``` of the class ```StyleContentModel```. Proceed as follows:\n",
    "\n",
    "    14.1 The argument ```inputs``` is again a 4D-tensor with values between zero and one. Apply ```tf.keras.applications.vgg19.preprocess_input``` to an appropriately scaled version of ```inputs``` (do not change height and width) and store the result in ```preprocessed_input```.\n",
    "    \n",
    "    14.2 Apply the attribute ```vgg``` to ```preprocessed_input``` and store the result in ```outputs```.\n",
    "    \n",
    "    14.3 Subdivide the list ```outputs``` into two lists ```style_outputs``` and ```content_outputs```. Before you do that, take a look at the initialization of ```vgg```.\n",
    "    \n",
    "    14.4 Replace all elements of ```style_outputs``` by associated Gram matrices."
   ]
  },
  {
   "cell_type": "code",
   "execution_count": null,
   "metadata": {},
   "outputs": [],
   "source": [
    "# replace all occurences of None\n",
    "class StyleContentModel(tf.keras.models.Model):  \n",
    "    def __init__(self, style_layers, content_layers):\n",
    "        super(StyleContentModel, self).__init__()\n",
    "        self.vgg =  vgg_layers(style_layers + content_layers)\n",
    "        self.style_layers = style_layers\n",
    "        self.content_layers = content_layers\n",
    "        self.num_style_layers = len(style_layers)\n",
    "        self.vgg.trainable = False\n",
    "        \n",
    "    def call(self, inputs):\n",
    "        preprocessed_input = None\n",
    "        outputs = None\n",
    "        style_outputs, content_outputs = None\n",
    "        style_outputs = None\n",
    "        content_dict = {content_name: value for content_name, value in zip(self.content_layers, content_outputs)}\n",
    "        style_dict = {style_name: value for style_name, value in zip(self.style_layers, style_outputs)}\n",
    "        return {'content': content_dict, 'style': style_dict}"
   ]
  },
  {
   "cell_type": "markdown",
   "metadata": {},
   "source": [
    "**Remark:** You have finally used all three Keras APIs! In Project 1, you have built models using the *Keras Sequential API*. Above in 12. you used the *Keras Functional API* and in 14.4 the *Keras Subclassing API*. The flexibility of these APIs increases in the above order: The Sequential API is very easy to use, but only allows for models with a single input tensor, a single output tensor, and a number of sequential layers in between. The Functional API allows for multiple input and output tensors (we exploited the latter in 12.) and it is possible, for example, to build so-called skip connections where activations skip one ore more layers. The possibilities of the Subclassing API go far beyond that. Arbitrary TensorFlow functions (in our case to compute the Gram matrix in 14.4) as well as control structures like ```for``` and ```while``` can be used inside the ```call``` method. A drawback of the Subclassing API is that created models cannot be saved and loaded without extra effort. Unlike in case of the other two APIs, we need to create an instance of our (sub)class in order to get a model by means of the Subclassing API.\n",
    "\n",
    "15. Create an instance ```extractor``` of ```StyleContentModel```. In doing that, submit the lists ```style_layers``` and ```content_layers``` from above to the constructor."
   ]
  },
  {
   "cell_type": "code",
   "execution_count": null,
   "metadata": {},
   "outputs": [],
   "source": [
    "# YOUR CODE"
   ]
  },
  {
   "cell_type": "markdown",
   "metadata": {},
   "source": [
    "Now we are ready to implement the losses $(*)$, $(**)$ and $(***)$ with the help of ```extractor```!"
   ]
  },
  {
   "cell_type": "markdown",
   "metadata": {},
   "source": [
    "## 2.4 Minimizing the loss\n",
    "\n",
    "In the course of Neural Style Transfer we actually try to solve the optimization problem\n",
    "\n",
    "$$\\min_{\\mathbf{x}} J(\\mathbf{x}, \\mathbf{c}, \\mathbf{s})$$\n",
    "\n",
    "where $\\mathbf{c}$ and $\\mathbf{s}$ represent *Content Image* and *Style Image*, respectively. As these two images are given, all $\\mathbf{a}^{[\\ell](\\mathbf{c})}$ in $(**)$ and all $\\mathbf{G}^{[\\ell](\\mathbf{s})}$ in $(***)$ are constants that we will compute now.\n",
    "\n",
    "16. Apply ```extractor``` to ```style_image``` to extract associated Gram matrices and store the result in ```style_targets```. The result must be a list with items $\\mathbf{G}^{[\\ell](\\mathbf{s})}$ for multiple values of $\\ell$."
   ]
  },
  {
   "cell_type": "code",
   "execution_count": null,
   "metadata": {},
   "outputs": [],
   "source": [
    "# YOUR CODE"
   ]
  },
  {
   "cell_type": "code",
   "execution_count": null,
   "metadata": {},
   "outputs": [],
   "source": [
    "style_targets[\"block1_conv1\"]"
   ]
  },
  {
   "cell_type": "markdown",
   "metadata": {},
   "source": [
    "**Checkpoint:** The above call of ```style_targets[\"block1_conv1\"]``` should produce the following output:\n",
    "```\n",
    "<tf.Tensor: shape=(1, 64, 64), dtype=float64, numpy=\n",
    "array([[[ 45.92743055,  20.06590504,   9.71989013, ...,  30.17798489,\n",
    "          10.98088872,  15.10200837],\n",
    "        [ 20.06590504,  45.85620007,  13.65396233, ...,  21.29668717,\n",
    "          14.39884349,  10.82709402],\n",
    "        [  9.71989013,  13.65396233,   8.18387814, ...,   2.56935254,\n",
    "           8.03212506,   8.51876579],\n",
    "        ...,\n",
    "        [ 30.17798489,  21.29668717,   2.56935254, ..., 198.46450743,\n",
    "          20.21175996,   9.80212628],\n",
    "        [ 10.98088872,  14.39884349,   8.03212506, ...,  20.21175996,\n",
    "          21.53061025,  15.80490754],\n",
    "        [ 15.10200837,  10.82709402,   8.51876579, ...,   9.80212628,\n",
    "          15.80490754,  16.56110532]]])>\n",
    "```"
   ]
  },
  {
   "cell_type": "markdown",
   "metadata": {},
   "source": [
    "17. Apply ```extractor``` to ```content_image``` to extract associated activations and store the result in ```content_targets```. The result must be a list with items $\\mathbf{a}^{[\\ell](\\mathbf{c})}$ for different values of $\\ell$."
   ]
  },
  {
   "cell_type": "code",
   "execution_count": null,
   "metadata": {},
   "outputs": [],
   "source": [
    "# YOUR CODE"
   ]
  },
  {
   "cell_type": "code",
   "execution_count": null,
   "metadata": {},
   "outputs": [],
   "source": [
    "content_targets[\"block4_conv2\"][0][0]"
   ]
  },
  {
   "cell_type": "markdown",
   "metadata": {},
   "source": [
    "**Checkpoint:** The above call of ```content_targets[\"block1_conv1\"][0][0]``` should produce the following output:\n",
    "```\n",
    "<tf.Tensor: shape=(64, 512), dtype=float64, numpy=\n",
    "array([[725.71265434,   0.        ,  91.28209556, ...,  43.47577693,\n",
    "        375.02083088,   0.        ],\n",
    "       [  0.        ,   0.        , 353.31359666, ...,   0.        ,\n",
    "        351.77779676,   0.        ],\n",
    "       [  0.        ,   0.        , 490.15692419, ...,   0.        ,\n",
    "        460.51096857,   0.        ],\n",
    "       ...,\n",
    "       [  0.        ,   0.        , 178.48063073, ..., 161.33845743,\n",
    "        238.55003094,   0.        ],\n",
    "       [  0.        ,   0.        , 682.45457904, ..., 182.48885433,\n",
    "        390.16694736,   0.        ],\n",
    "       [  0.        ,   0.        , 607.08138405, ..., 595.88203066,\n",
    "        626.46038097,   0.        ]])>\n",
    "```"
   ]
  },
  {
   "cell_type": "markdown",
   "metadata": {},
   "source": [
    "18. Initialize ```image``` (corresponding to $\\mathbf{x}$) as a ```tf.Variable``` with value ```content_image```."
   ]
  },
  {
   "cell_type": "code",
   "execution_count": null,
   "metadata": {},
   "outputs": [],
   "source": [
    "# YOUR CODE"
   ]
  },
  {
   "cell_type": "markdown",
   "metadata": {},
   "source": [
    "19. Initialize ```content_weight = 1e-3``` (corresponds to $\\alpha$) and ```style_weight = 1``` (corresponds to $\\beta$)."
   ]
  },
  {
   "cell_type": "code",
   "execution_count": null,
   "metadata": {},
   "outputs": [],
   "source": [
    "# YOUR CODE"
   ]
  },
  {
   "cell_type": "markdown",
   "metadata": {},
   "source": [
    "20. Assign the optimizer ```tf.optimizers.Adam``` with parameters ```learning_rate=0.02```, ```beta_1=0.99``` and ```epsilon=1e-1``` to ```opt```."
   ]
  },
  {
   "cell_type": "code",
   "execution_count": null,
   "metadata": {},
   "outputs": [],
   "source": [
    "# YOUR CODE"
   ]
  },
  {
   "cell_type": "markdown",
   "metadata": {},
   "source": [
    "21. Write a function ```clip_0_1``` that takes a 4D-tensor ```image``` as input and clips the values of that tensor to the interval ```[0, 1]```. Use the function ```tf.clip_by_value```."
   ]
  },
  {
   "cell_type": "code",
   "execution_count": null,
   "metadata": {},
   "outputs": [],
   "source": [
    "# YOUR CODE"
   ]
  },
  {
   "cell_type": "markdown",
   "metadata": {},
   "source": [
    "22. Complete the function ```style_content_loss``` that corresponds to $(*)$ and will be called by ```train_step``` in the next step."
   ]
  },
  {
   "cell_type": "code",
   "execution_count": null,
   "metadata": {},
   "outputs": [],
   "source": [
    "# replace all occurences of None\n",
    "def style_content_loss(outputs, style_targets, content_targets, style_weight, content_weight):\n",
    "    style_outputs = outputs['style']\n",
    "    content_outputs = outputs['content']\n",
    "    style_loss = tf.add_n([tf.reduce_sum((style_outputs[name] - None) ** 2) for name in style_outputs.keys()])\n",
    "    style_loss *= None\n",
    "    content_loss = tf.add_n([tf.reduce_sum((content_outputs[name] - None) ** 2) for name in content_outputs.keys()])\n",
    "    content_loss *= None\n",
    "    loss = None\n",
    "    return loss"
   ]
  },
  {
   "cell_type": "markdown",
   "metadata": {},
   "source": [
    "23. Complete the TensorFlow function ```train_step``` that computes a gradient of ```style_content_loss``` with respect to ```image``` and performs an associated gradient descent step."
   ]
  },
  {
   "cell_type": "code",
   "execution_count": null,
   "metadata": {},
   "outputs": [],
   "source": [
    "# replace all occurences of None\n",
    "@tf.function()\n",
    "def train_step(image, opt):\n",
    "    with tf.GradientTape() as tape:\n",
    "        outputs = None\n",
    "        loss = None\n",
    "    grad = tape.gradient(None, None)    \n",
    "    opt.apply_gradients([(None, None)])\n",
    "    image.assign(clip_0_1(None))\n",
    "    return loss"
   ]
  },
  {
   "cell_type": "markdown",
   "metadata": {},
   "source": [
    "**Remark:** The prefix ```@tf.function()``` creates a so-called TensorFlow function. Based on such functions, TensorFlow creates and optimizes computation graphs automatically at runtime which will often induce a drastic speed-up (through parallelization, etc.)."
   ]
  },
  {
   "cell_type": "markdown",
   "metadata": {},
   "source": [
    "24. Complement the following code with a call of ```train_step``` and start training. Watch the *Getting started with TensorBoard* video in the Stud.IP courseware to learn how to access the results."
   ]
  },
  {
   "cell_type": "code",
   "execution_count": null,
   "metadata": {},
   "outputs": [],
   "source": [
    "loops = 100\n",
    "iters_per_loop = 10\n",
    "\n",
    "file_writer = tf.summary.create_file_writer('logs' + f'/stw{style_weight}_cow{content_weight}')\n",
    "file_writer.set_as_default()\n",
    "\n",
    "for loop in range(loops):\n",
    "    tf.summary.image('image', data=image, step=loop * iters_per_loop)\n",
    "    for it in range(iters_per_loop):\n",
    "        # YOUR CODE\n",
    "        tf.summary.scalar('loss', data=loss, step=loop * iters_per_loop + it)"
   ]
  },
  {
   "cell_type": "markdown",
   "metadata": {},
   "source": [
    "## 2.5 Adding TV regularization"
   ]
  },
  {
   "cell_type": "markdown",
   "metadata": {},
   "source": [
    "Images generated with *Neural Style Transfer* often feature high frequency parts which some viewers might perceive as unpleasant or noisy. One way to mitigate this effect is adding *TV regularization* to the overall loss ```(*)```. In a nutshell, this means that large color gradients of the generated image are penalized a little bit. The resulting image usually has less local variation and appears smoother than before. Luckily, TensorFlow features a readily implemented function to compute the total variation of images and we are now going to add this function to ```train_step```."
   ]
  },
  {
   "cell_type": "markdown",
   "metadata": {},
   "source": [
    "25. Initialize ```tv_weight = 1e3```."
   ]
  },
  {
   "cell_type": "code",
   "execution_count": null,
   "metadata": {},
   "outputs": [],
   "source": [
    "# YOUR CODE"
   ]
  },
  {
   "cell_type": "markdown",
   "metadata": {},
   "source": [
    "26. Redefine ```train_step```. The only difference above should be an additional loss term ```tv_weight * tf.cast(tf.image.total_variation(image)[0], tf.float64)```."
   ]
  },
  {
   "cell_type": "code",
   "execution_count": null,
   "metadata": {},
   "outputs": [],
   "source": [
    "# YOUR CODE"
   ]
  },
  {
   "cell_type": "markdown",
   "metadata": {},
   "source": [
    "27. Initialize ```image``` again."
   ]
  },
  {
   "cell_type": "code",
   "execution_count": null,
   "metadata": {},
   "outputs": [],
   "source": [
    "# YOUR CODE"
   ]
  },
  {
   "cell_type": "markdown",
   "metadata": {},
   "source": [
    "28. Repeat step 24. and view the results. Don't forget to re-initialize ```opt```."
   ]
  },
  {
   "cell_type": "code",
   "execution_count": null,
   "metadata": {},
   "outputs": [],
   "source": [
    "# YOUR CODE"
   ]
  },
  {
   "cell_type": "markdown",
   "metadata": {},
   "source": [
    "29. Submit this notebook not later than December 11th."
   ]
  },
  {
   "cell_type": "markdown",
   "metadata": {},
   "source": [
    "30. Apply Neural Style Transfer to content and style images of your choice. Three (not more and not less) self-created images per group need to be submitted and are also due on Decmeber 11th.\n",
    "\n",
    "The submitted images are intended to participate in a *Neural Art Contest* that will take place towards the end of the semester in the form of a public online poll. The guiding theme of the contest is *Nature*. So your content images should feature something from this context. Apart from using content and style images of your choice, there are several things you could try:\n",
    "\n",
    "- Use a larger value of ```max_dim``` to produce higher-resolution images.\n",
    "- Use constant or random initialization for ```image``` instead of ```content_image```.\n",
    "- Use lists ```content_layers``` and ```style_layers``` that are different from the standard setting.\n",
    "- Modify ```content_weight```, ```style_weight``` and ```tv_weight```.\n",
    "- Replace ```tf.optimizers.Adam``` by another algorithm.\n",
    "- Perform more iterations.\n",
    "- Anything else that comes to your mind.\n",
    "\n",
    "Importantly, you need to use your own code to create the images. Moreover, your submission needs to be reproducible, i.e., you are asked to submit all content, style and generated images Python scripts that can be run to reproduce your submitted images.\n",
    "\n",
    "We recommend to use the GPU cluster, especially when you increase the image resolution."
   ]
  },
  {
   "cell_type": "code",
   "execution_count": null,
   "metadata": {},
   "outputs": [],
   "source": []
  }
 ],
 "metadata": {
  "kernelspec": {
   "display_name": "Python 3 (ipykernel)",
   "language": "python",
   "name": "python3"
  },
  "language_info": {
   "codemirror_mode": {
    "name": "ipython",
    "version": 3
   },
   "file_extension": ".py",
   "mimetype": "text/x-python",
   "name": "python",
   "nbconvert_exporter": "python",
   "pygments_lexer": "ipython3",
   "version": "3.9.15"
  }
 },
 "nbformat": 4,
 "nbformat_minor": 2
}
